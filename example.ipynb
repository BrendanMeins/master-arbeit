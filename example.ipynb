{
 "cells": [
  {
   "cell_type": "markdown",
   "metadata": {},
   "source": [
    "# Example Experiment"
   ]
  },
  {
   "cell_type": "markdown",
   "metadata": {},
   "source": [
    "## Imports\n",
    "- benchmark contains some benchmark problems (the kroD100 instance is in the tsp_qubo lib, see /experiment_archiv\\tsp_50_nodes_2500_vars\\objective_value_comparison\\tsp.ipynb)\n",
    "- qhea.solver contains the Qhea algorithm\n",
    "- qhea.parameters contains the parameter object\n",
    "- qhea.problem contains the QUBO and also offers TSP Qubo\n",
    "- annealing contains the Simulated Annealing algorithm"
   ]
  },
  {
   "cell_type": "code",
   "execution_count": 16,
   "metadata": {},
   "outputs": [],
   "source": [
    "import benchmark\n",
    "\n",
    "from qhea.solver import Qhea\n",
    "from qhea.parameters import Parameters\n",
    "from qhea.problem import TSPQUBO\n",
    "\n",
    "import annealing\n",
    "\n",
    "import matplotlib.pyplot as plt\n"
   ]
  },
  {
   "cell_type": "markdown",
   "metadata": {},
   "source": [
    "## Problem\n",
    "- TSPQUBO object asks for a distance matrix\n",
    "- TSPQUBO inherits its functionality from the QUBO class, and adds the funcionality to generate a QUBO Matrix from the distance matrix"
   ]
  },
  {
   "cell_type": "code",
   "execution_count": 11,
   "metadata": {},
   "outputs": [],
   "source": [
    "tsp_d_mat = benchmark.distances.get_tsp(benchmark.distances.get_tsp_names()[4]).distances\n",
    "\n",
    "tsp_qubo = TSPQUBO(\n",
    "    d_mat=tsp_d_mat,      # Distance Matrix\n",
    "    sub_problem_size=100, # number of decision variables for sub problems\n",
    "    penalty=100           # Penalty (aka Lagrangian) for the constraints\n",
    ")"
   ]
  },
  {
   "cell_type": "markdown",
   "metadata": {},
   "source": [
    "## Parameters"
   ]
  },
  {
   "cell_type": "code",
   "execution_count": 12,
   "metadata": {},
   "outputs": [],
   "source": [
    "parameters = Parameters(\n",
    "    optimiziation_rate=0.005,     # probability that an individual is optimized\n",
    "    n_individuals=10,             # aka population size\n",
    "    n_generations=1000,           # number generations, determines length of evolution\n",
    "    selection_pressure=2,         # determines the selection probabilities\n",
    "    bias=0.5                      # probability that determines from which parent a gene is inherited\n",
    ")"
   ]
  },
  {
   "cell_type": "markdown",
   "metadata": {},
   "source": [
    "## Solver"
   ]
  },
  {
   "cell_type": "code",
   "execution_count": 13,
   "metadata": {},
   "outputs": [],
   "source": [
    "solver = Qhea(\n",
    "    qubo=tsp_qubo,                  \t      # qubo instance of the TSP\n",
    "    parameters=parameters,                    # parameters \n",
    "    local_optimizer=annealing.d_wave.anneal   # optmization algorithm for local optmization. interface is (q_mat) -> (solution_vec : list, objective_val : float)\n",
    ")"
   ]
  },
  {
   "cell_type": "markdown",
   "metadata": {},
   "source": [
    "## Optimize"
   ]
  },
  {
   "cell_type": "code",
   "execution_count": 14,
   "metadata": {},
   "outputs": [],
   "source": [
    "result = solver.optimize() # returns evolution data, qhea.data.Data"
   ]
  },
  {
   "cell_type": "code",
   "execution_count": 19,
   "metadata": {},
   "outputs": [
    {
     "data": {
      "image/png": "[encoded data removed]",
      "text/plain": [
       "<Figure size 640x480 with 1 Axes>"
      ]
     },
     "metadata": {},
     "output_type": "display_data"
    }
   ],
   "source": [
    "plt.plot(result.get_fitness_evolution())\n",
    "plt.ylabel('Fitness')\n",
    "plt.xlabel('Generation')\n",
    "plt.show()"
   ]
  }
 ],
 "metadata": {
  "kernelspec": {
   "display_name": "Python 3",
   "language": "python",
   "name": "python3"
  },
  "language_info": {
   "codemirror_mode": {
    "name": "ipython",
    "version": 3
   },
   "file_extension": ".py",
   "mimetype": "text/x-python",
   "name": "python",
   "nbconvert_exporter": "python",
   "pygments_lexer": "ipython3",
   "version": "3.10.6"
  },
  "orig_nbformat": 4
 },
 "nbformat": 4,
 "nbformat_minor": 2
}
