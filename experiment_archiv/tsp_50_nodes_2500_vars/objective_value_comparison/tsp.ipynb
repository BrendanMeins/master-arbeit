{
 "cells": [
  {
   "cell_type": "code",
   "execution_count": null,
   "metadata": {},
   "outputs": [],
   "source": [
    "import math\n",
    "import numpy as np\n",
    "import scipy.sparse\n",
    "import sys\n",
    "import os\n",
    "import matplotlib.pyplot as plt\n",
    "import networkx as nx\n",
    "import networkx.algorithms.approximation as nx_app\n",
    "import math\n",
    "np.set_printoptions(threshold=sys.maxsize)\n",
    "\n",
    "current = os.path.dirname(os.path.realpath('__file__'))\n",
    "parent = os.path.dirname(current)\n",
    "parent = os.path.dirname(parent)\n",
    "parent = os.path.dirname(parent)\n",
    "parent = os.path.dirname(parent)\n",
    "\n",
    "\n",
    "sys.path.append(parent)\n",
    "import qhea.solver\n",
    "import qhea.parameters\n",
    "import qhea.problem\n",
    "import benchmark\n",
    "import tsp_qubo\n",
    "import plotter\n",
    "import annealing"
   ]
  },
  {
   "cell_type": "code",
   "execution_count": null,
   "metadata": {},
   "outputs": [],
   "source": [
    "tsp = np.array(tsp_qubo.from_xml.get_problem('kroD100.xml'))\n",
    "n_nodes = len(tsp)\n",
    "penalty = tsp.max()"
   ]
  },
  {
   "cell_type": "code",
   "execution_count": null,
   "metadata": {},
   "outputs": [],
   "source": [
    "parameters = qhea.parameters.Parameters(\n",
    "    optimiziation_rate=0.005,\n",
    "    n_individuals=100,\n",
    "    n_generations=1000,\n",
    "    selection_pressure=2,\n",
    "    bias=0.5\n",
    ")\n",
    "qubo_tsp = qhea.problem.TSPQUBO(tsp, 100, penalty)\n",
    "solver = qhea.solver.Qhea(qubo_tsp, parameters, annealing.d_wave.anneal)\n",
    "res = solver.optimize()\n",
    "qhea_result = res.all_time_fittest[1]\n",
    "qhea_objective = res.all_time_fittest[0]\n",
    "print(np.sum(np.reshape(qhea_result, (n_nodes,n_nodes)),axis=0))\n",
    "print(np.sum(np.reshape(qhea_result, (n_nodes,n_nodes)),axis=1))\n",
    "\n"
   ]
  },
  {
   "cell_type": "code",
   "execution_count": null,
   "metadata": {},
   "outputs": [],
   "source": [
    "problem = qubo_tsp._generate_q_mat(penalty)\n",
    "sim_anneal_result, sim_anneal_objective = annealing.d_wave.anneal(problem)"
   ]
  },
  {
   "cell_type": "code",
   "execution_count": null,
   "metadata": {},
   "outputs": [],
   "source": [
    "tabu_result, tabu_objective = annealing.d_wave.tabu(problem)"
   ]
  },
  {
   "cell_type": "code",
   "execution_count": null,
   "metadata": {},
   "outputs": [],
   "source": [
    "def resolve_to_permutation(x, shape):\n",
    "    b = np.reshape(x, shape)\n",
    "\n",
    "    permutation = []\n",
    "\n",
    "    for i in range(len(b)):\n",
    "        permutation.append(np.where(b[i] == 1)[0][0])\n",
    "\n",
    "    permutation.append(permutation[0])\n",
    "    return permutation\n",
    "\n",
    "def resolve_to_distance(x, d_mat):\n",
    "    t_mat = np.reshape(x, (n_nodes, n_nodes))\n",
    "    result = 0\n",
    "    for t in range(n_nodes):\n",
    "        result += t_mat[t] @ d_mat @ t_mat[(t + 1) % n_nodes]\n",
    "\n",
    "    return result\n",
    "\n",
    "\n",
    "def get_edge_list(x, shape):\n",
    "    permutation = resolve_to_permutation(x,shape)\n",
    "    edge_list = list(nx.utils.pairwise(permutation))\n",
    "    return edge_list\n"
   ]
  },
  {
   "cell_type": "code",
   "execution_count": null,
   "metadata": {},
   "outputs": [],
   "source": [
    "print(f'Qhea result: {qhea_objective} ')\n",
    "print(f'Tabu Result: {tabu_objective} ')\n",
    "print(f'Sim result: {sim_anneal_objective} ')\n",
    "\n",
    "print(f'Qhea distance: {resolve_to_distance(qhea_result,tsp)}')\n",
    "print(f'Tabu distance: {resolve_to_distance(tabu_result,tsp)}')\n",
    "print(f'Sim distance: {resolve_to_distance(sim_anneal_result,tsp)}')\n",
    "\n",
    "print(resolve_to_permutation(qhea_result, (100,100)))"
   ]
  }
 ],
 "metadata": {
  "kernelspec": {
   "display_name": "Python 3",
   "language": "python",
   "name": "python3"
  },
  "language_info": {
   "codemirror_mode": {
    "name": "ipython",
    "version": 3
   },
   "file_extension": ".py",
   "mimetype": "text/x-python",
   "name": "python",
   "nbconvert_exporter": "python",
   "pygments_lexer": "ipython3",
   "version": "3.10.6"
  },
  "orig_nbformat": 4
 },
 "nbformat": 4,
 "nbformat_minor": 2
}
