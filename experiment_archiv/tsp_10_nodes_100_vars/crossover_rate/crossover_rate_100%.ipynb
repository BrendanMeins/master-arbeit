{
 "cells": [
  {
   "cell_type": "code",
   "execution_count": 1,
   "metadata": {},
   "outputs": [],
   "source": [
    "import math\n",
    "import numpy as np\n",
    "np.random.seed(0)\n",
    "\n",
    "import sys\n",
    "import os\n",
    "import scipy.sparse\n",
    "np.set_printoptions(threshold=sys.maxsize)\n",
    "current = os.path.dirname(os.path.realpath('__file__'))\n",
    "parent = os.path.dirname(current)\n",
    "parent = os.path.dirname(parent)\n",
    "parent = os.path.dirname(parent)\n",
    "\n",
    "\n",
    "sys.path.append(parent)\n",
    "\n",
    "import benchmark\n",
    "import tsp_qubo\n",
    "import plotter\n",
    "        "
   ]
  },
  {
   "cell_type": "code",
   "execution_count": 2,
   "metadata": {},
   "outputs": [],
   "source": [
    "class Parameters():\n",
    "    '''Container for Qhea parameters'''\n",
    "    def __init__(self, mutation_rate, n_individuals, n_generations, crossover_rate):\n",
    "        self.mutation_rate = mutation_rate\n",
    "        self.n_individuals = n_individuals\n",
    "        self.n_generations = n_generations\n",
    "        self.crossover_rate = crossover_rate"
   ]
  },
  {
   "cell_type": "code",
   "execution_count": 3,
   "metadata": {},
   "outputs": [],
   "source": [
    "class Data():\n",
    "    '''Container to collect data from the algorithm'''\n",
    "    fitness = 0\n",
    "    value = 1\n",
    "    def __init__(self, individual):\n",
    "        self.evolution = np.array([individual], dtype=object)\n",
    "        self.all_time_fittest = individual.copy()\n",
    "\n",
    "    def add_individual(self, individual):\n",
    "        self.evolution = np.vstack([self.evolution, individual])\n",
    "        if self.all_time_fittest[self.fitness] > individual[self.fitness]:\n",
    "            self.all_time_fittest = individual.copy()\n",
    "\n",
    "    def get_evolution(self):\n",
    "        return self.evolution\n",
    "    \n",
    "    def get_fitness_evolution(self):\n",
    "        return self.evolution[:, self.fitness]\n",
    "    \n",
    "    def get_individual_evolution(self):\n",
    "        return self.evolution[:, self.value]\n",
    "    \n",
    "    def get_solution(self):\n",
    "        return self.all_time_fittest"
   ]
  },
  {
   "cell_type": "code",
   "execution_count": 4,
   "metadata": {},
   "outputs": [],
   "source": [
    "class Qhea():\n",
    "    fitness = 0 # variable used to index individual for fitness\n",
    "    value = 1 # variable used to index individual for value, eg. chromosome\n",
    "    def __init__(self, qubo, parameters):\n",
    "        '''\n",
    "        :param qubo: qubo matrix  to optimize (minimize)\n",
    "        :param parameters: Parameter oject with params to execute the algorithm\n",
    "        '''\n",
    "        self.qubo = qubo # save qubo\n",
    "        self.sparse = scipy.sparse.coo_array(qubo)\n",
    "        self.n_vars = len(qubo) # n_vars is the chromosome size, 2 ** n_vars is the solution space\n",
    "        self.n_individuals = parameters.n_individuals # size of the population\n",
    "        self.n_generations = parameters.n_generations # number of generations \n",
    "        self.mutation_rate = parameters.mutation_rate # mutation probabilty per gene\n",
    "        self.crossover_rate = parameters.crossover_rate\n",
    "        self.population, self.crossover_sequence, self.data = self.init() # init data\n",
    "        \n",
    "    def init(self):\n",
    "        population = np.array([[0, np.random.randint(0, 2, self.n_vars)] for j in range(self.n_individuals)],\n",
    "                      dtype=object) # init population\n",
    "        \n",
    "        for ind in range(self.n_individuals):\n",
    "            population[ind][self.fitness] = self.cost_function(population[ind][self.value]) # initial fitness to population\n",
    "        \n",
    "        population = population[population[:, self.fitness].argsort()] # sort ascending by fitness\n",
    "        \n",
    "        crossover_sequence = np.array([0^(int(i / int(self.n_vars / 2)) > 0) for i in range(self.n_vars)]) # calculate crossover sequence\n",
    "        data = Data(population[0]) # init data object to collect data from algorithm\n",
    "\n",
    "        return population, crossover_sequence, data\n",
    "    \n",
    "    def cost_function(self, val):\n",
    "        return val @ self.qubo @ val # calculate fitness\n",
    "\n",
    "    def optimize(self):\n",
    "\n",
    "        for gen in range(self.n_generations): # evolution loop\n",
    "            for ind in range(int(self.n_individuals / 2)): # iterating over the better half of individuals\n",
    "                \n",
    "                # mutation sequence is an array of [0,1], with a probabilty of mutation_rate for each index to be 1\n",
    "                mutation_sequence_1 = np.random.random(self.n_vars) < self.mutation_rate # mutation sequence 1\n",
    "                mutation_sequence_2 = np.random.random(self.n_vars) < self.mutation_rate # mutation sequence 2\n",
    "\n",
    "                # generates the values that determine if the crossover actually happens\n",
    "                crossover_determiner_1 = np.random.random()\n",
    "                crossover_determiner_2 = np.random.random()\n",
    "\n",
    "                if crossover_determiner_1 < self.crossover_rate:\n",
    "                    # select individual 1 to be replaced from worse half of population (first child)\n",
    "                    self.population[ind + int(self.n_individuals / 2) - 1][self.value] = np.logical_xor(\n",
    "                    np.add(\n",
    "                        np.logical_and(self.population[ind][self.value], self.crossover_sequence), # getting the genes from first parent (where crossover is 1)\n",
    "                        np.logical_and(self.population[ind + 1][self.value], np.logical_xor(self.crossover_sequence, np.ones(self.n_vars))) # getting the genes from second parent (where crossover is 0)\n",
    "                    ),\n",
    "                    mutation_sequence_1\n",
    "                    )\n",
    "                \n",
    "                if crossover_determiner_2 < self.crossover_rate:\n",
    "                    # select individual 2 to be replaced from worse half of population (second child)\n",
    "                    self.population[ind + int(self.n_individuals / 2)][self.value] = np.logical_xor(\n",
    "                        np.add(\n",
    "                        np.logical_and(self.population[ind + 1][self.value], self.crossover_sequence), # getting the genes from second parent (where crossover is 1)\n",
    "                        np.logical_and(self.population[ind][self.value], np.logical_xor(self.crossover_sequence, np.ones(self.n_vars)))  # getting the genes from first parent (where crossover is 0)\n",
    "                    ), mutation_sequence_2)\n",
    "                    # note how the order of parents changed for individual 2\n",
    "\n",
    "            # apply fitness to every new individual\n",
    "            for ind in range(int(self.n_individuals / 2), len(self.population)):\n",
    "                self.population[ind][self.fitness] = self.cost_function(self.population[ind][self.value])\n",
    "            \n",
    "            # sort ascending by fitness\n",
    "            self.population = self.population[self.population[:, self.fitness].argsort()]\n",
    "            self.population = self.population[:self.n_individuals]\n",
    "\n",
    "            # add fittest individual to data set\n",
    "            self.data.add_individual(self.population[0])\n",
    "        \n",
    "        # when done, return data set\n",
    "        return self.data"
   ]
  },
  {
   "cell_type": "code",
   "execution_count": 5,
   "metadata": {},
   "outputs": [],
   "source": [
    "tsp = benchmark.distances.get_tsp(benchmark.distances.get_tsp_names()[0]).distances\n",
    "n_nodes = len(tsp)\n",
    "penalty = 100\n",
    "constraint_matrix = np.zeros((n_nodes ** 2, n_nodes ** 2))\n",
    "constraint_matrix = tsp_qubo.generate.apply_penalties(constraint_matrix, penalty)\n",
    "\n",
    "amp = np.zeros((n_nodes, n_nodes))\n",
    "for i in range(len(amp)):\n",
    "    amp[i][(i + 1) % n_nodes] = 1\n",
    "objective = np.kron(amp, tsp)\n",
    "qubo = objective + constraint_matrix\n"
   ]
  },
  {
   "cell_type": "code",
   "execution_count": 6,
   "metadata": {},
   "outputs": [
    {
     "data": {
      "image/png": "[encoded data removed]",
      "text/plain": [
       "<Figure size 640x480 with 1 Axes>"
      ]
     },
     "metadata": {},
     "output_type": "display_data"
    },
    {
     "ename": "",
     "evalue": "",
     "output_type": "error",
     "traceback": [
      "\u001b[1;31mThe Kernel crashed while executing code in the the current cell or a previous cell. Please review the code in the cell(s) to identify a possible cause of the failure. Click <a href='https://aka.ms/vscodeJupyterKernelCrash'>here</a> for more info. View Jupyter <a href='command:jupyter.viewOutput'>log</a> for further details."
     ]
    }
   ],
   "source": [
    "parameters = Parameters(\n",
    "    mutation_rate=0.05,\n",
    "    n_individuals=100,\n",
    "    n_generations=1000,\n",
    "    crossover_rate=1\n",
    ")\n",
    "\n",
    "evolutions = np.array([0 for i in range(parameters.n_generations+1)], dtype=object)\n",
    "\n",
    "for i in range(10):\n",
    "    solver = Qhea(qubo=qubo,parameters=parameters)\n",
    "    result = solver.optimize()\n",
    "    evolution = result.get_fitness_evolution()\n",
    "    evolutions = np.add(evolutions, evolution)\n",
    "\n",
    "evolutions = evolutions / 10\n",
    "plotter.plot_evolution(evolutions, \"crossover_rate_100%\", 2)\n"
   ]
  },
  {
   "attachments": {},
   "cell_type": "markdown",
   "metadata": {},
   "source": [
    "## Experiment Description\n",
    "The Algorithm was tested with a medium mutation rate of 5% probability and a medium crossover rate of 100%\n",
    "\n",
    "## Result\n",
    "<img src=\"files/crossover_rate_max.png\">"
   ]
  }
 ],
 "metadata": {
  "kernelspec": {
   "display_name": "Python 3",
   "language": "python",
   "name": "python3"
  },
  "language_info": {
   "codemirror_mode": {
    "name": "ipython",
    "version": 3
   },
   "file_extension": ".py",
   "mimetype": "text/x-python",
   "name": "python",
   "nbconvert_exporter": "python",
   "pygments_lexer": "ipython3",
   "version": "3.10.6"
  },
  "orig_nbformat": 4,
  "vscode": {
   "interpreter": {
    "hash": "369f2c481f4da34e4445cda3fffd2e751bd1c4d706f27375911949ba6bb62e1c"
   }
  }
 },
 "nbformat": 4,
 "nbformat_minor": 2
}
